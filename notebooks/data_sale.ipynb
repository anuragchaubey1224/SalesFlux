{
 "cells": [
  {
   "cell_type": "code",
   "execution_count": 1,
   "id": "c7b77564",
   "metadata": {},
   "outputs": [],
   "source": [
    "import pandas as pd"
   ]
  },
  {
   "cell_type": "code",
   "execution_count": 2,
   "id": "1f930174",
   "metadata": {},
   "outputs": [],
   "source": [
    "df=pd.read_csv(\"/Users/anuragchaubey/SalesFlux/data/sales_data_500k.csv\")"
   ]
  },
  {
   "cell_type": "code",
   "execution_count": 3,
   "id": "b73b934e",
   "metadata": {},
   "outputs": [
    {
     "name": "stdout",
     "output_type": "stream",
     "text": [
      "<class 'pandas.core.frame.DataFrame'>\n",
      "RangeIndex: 500000 entries, 0 to 499999\n",
      "Data columns (total 5 columns):\n",
      " #   Column         Non-Null Count   Dtype \n",
      "---  ------         --------------   ----- \n",
      " 0   ProductID      500000 non-null  object\n",
      " 1   Location       500000 non-null  object\n",
      " 2   Date           500000 non-null  object\n",
      " 3   UnitsSold      500000 non-null  int64 \n",
      " 4   PromoCodeUsed  450000 non-null  object\n",
      "dtypes: int64(1), object(4)\n",
      "memory usage: 19.1+ MB\n"
     ]
    }
   ],
   "source": [
    "df.info()"
   ]
  },
  {
   "cell_type": "code",
   "execution_count": 4,
   "id": "9d1dfa3b",
   "metadata": {},
   "outputs": [
    {
     "data": {
      "text/html": [
       "<div>\n",
       "<style scoped>\n",
       "    .dataframe tbody tr th:only-of-type {\n",
       "        vertical-align: middle;\n",
       "    }\n",
       "\n",
       "    .dataframe tbody tr th {\n",
       "        vertical-align: top;\n",
       "    }\n",
       "\n",
       "    .dataframe thead th {\n",
       "        text-align: right;\n",
       "    }\n",
       "</style>\n",
       "<table border=\"1\" class=\"dataframe\">\n",
       "  <thead>\n",
       "    <tr style=\"text-align: right;\">\n",
       "      <th></th>\n",
       "      <th>ProductID</th>\n",
       "      <th>Location</th>\n",
       "      <th>Date</th>\n",
       "      <th>UnitsSold</th>\n",
       "      <th>PromoCodeUsed</th>\n",
       "    </tr>\n",
       "  </thead>\n",
       "  <tbody>\n",
       "    <tr>\n",
       "      <th>458884</th>\n",
       "      <td>P0494</td>\n",
       "      <td>L01</td>\n",
       "      <td>2024-06-03</td>\n",
       "      <td>10</td>\n",
       "      <td>No</td>\n",
       "    </tr>\n",
       "    <tr>\n",
       "      <th>268932</th>\n",
       "      <td>P0400</td>\n",
       "      <td>L03</td>\n",
       "      <td>2024-10-20</td>\n",
       "      <td>0</td>\n",
       "      <td>Yes</td>\n",
       "    </tr>\n",
       "    <tr>\n",
       "      <th>151671</th>\n",
       "      <td>P0198</td>\n",
       "      <td>L01</td>\n",
       "      <td>2024-05-04</td>\n",
       "      <td>2</td>\n",
       "      <td>No</td>\n",
       "    </tr>\n",
       "    <tr>\n",
       "      <th>291714</th>\n",
       "      <td>P0342</td>\n",
       "      <td>L04</td>\n",
       "      <td>2024-02-08</td>\n",
       "      <td>8</td>\n",
       "      <td>No</td>\n",
       "    </tr>\n",
       "    <tr>\n",
       "      <th>390428</th>\n",
       "      <td>P0370</td>\n",
       "      <td>L10</td>\n",
       "      <td>2024-08-09</td>\n",
       "      <td>3</td>\n",
       "      <td>No</td>\n",
       "    </tr>\n",
       "    <tr>\n",
       "      <th>168067</th>\n",
       "      <td>P0027</td>\n",
       "      <td>L05</td>\n",
       "      <td>2024-04-01</td>\n",
       "      <td>3</td>\n",
       "      <td>NaN</td>\n",
       "    </tr>\n",
       "    <tr>\n",
       "      <th>254643</th>\n",
       "      <td>P0166</td>\n",
       "      <td>L10</td>\n",
       "      <td>2024-03-26</td>\n",
       "      <td>0</td>\n",
       "      <td>Yes</td>\n",
       "    </tr>\n",
       "    <tr>\n",
       "      <th>115939</th>\n",
       "      <td>P0165</td>\n",
       "      <td>L03</td>\n",
       "      <td>2024-05-22</td>\n",
       "      <td>9</td>\n",
       "      <td>Yes</td>\n",
       "    </tr>\n",
       "    <tr>\n",
       "      <th>157786</th>\n",
       "      <td>P0284</td>\n",
       "      <td>L01</td>\n",
       "      <td>2024-04-24</td>\n",
       "      <td>2</td>\n",
       "      <td>No</td>\n",
       "    </tr>\n",
       "    <tr>\n",
       "      <th>359708</th>\n",
       "      <td>P0170</td>\n",
       "      <td>L04</td>\n",
       "      <td>2024-06-13</td>\n",
       "      <td>5</td>\n",
       "      <td>No</td>\n",
       "    </tr>\n",
       "  </tbody>\n",
       "</table>\n",
       "</div>"
      ],
      "text/plain": [
       "       ProductID Location        Date  UnitsSold PromoCodeUsed\n",
       "458884     P0494      L01  2024-06-03         10            No\n",
       "268932     P0400      L03  2024-10-20          0           Yes\n",
       "151671     P0198      L01  2024-05-04          2            No\n",
       "291714     P0342      L04  2024-02-08          8            No\n",
       "390428     P0370      L10  2024-08-09          3            No\n",
       "168067     P0027      L05  2024-04-01          3           NaN\n",
       "254643     P0166      L10  2024-03-26          0           Yes\n",
       "115939     P0165      L03  2024-05-22          9           Yes\n",
       "157786     P0284      L01  2024-04-24          2            No\n",
       "359708     P0170      L04  2024-06-13          5            No"
      ]
     },
     "execution_count": 4,
     "metadata": {},
     "output_type": "execute_result"
    }
   ],
   "source": [
    "df.sample(10)"
   ]
  },
  {
   "cell_type": "code",
   "execution_count": 5,
   "id": "be751fec",
   "metadata": {},
   "outputs": [
    {
     "data": {
      "text/plain": [
       "ProductID        500\n",
       "Location          10\n",
       "Date             365\n",
       "UnitsSold         11\n",
       "PromoCodeUsed      2\n",
       "dtype: int64"
      ]
     },
     "execution_count": 5,
     "metadata": {},
     "output_type": "execute_result"
    }
   ],
   "source": [
    "df.nunique()"
   ]
  },
  {
   "cell_type": "code",
   "execution_count": 6,
   "id": "5ae0e2af",
   "metadata": {},
   "outputs": [
    {
     "data": {
      "text/plain": [
       "np.int64(4194)"
      ]
     },
     "execution_count": 6,
     "metadata": {},
     "output_type": "execute_result"
    }
   ],
   "source": [
    "df.duplicated().sum()"
   ]
  },
  {
   "cell_type": "code",
   "execution_count": 7,
   "id": "ad984c95",
   "metadata": {},
   "outputs": [],
   "source": [
    "df.drop_duplicates(inplace=True)"
   ]
  },
  {
   "cell_type": "code",
   "execution_count": 8,
   "id": "2384e1f9",
   "metadata": {},
   "outputs": [
    {
     "data": {
      "text/plain": [
       "np.int64(0)"
      ]
     },
     "execution_count": 8,
     "metadata": {},
     "output_type": "execute_result"
    }
   ],
   "source": [
    "df.duplicated().sum()"
   ]
  },
  {
   "cell_type": "code",
   "execution_count": 9,
   "id": "1b89b22a",
   "metadata": {},
   "outputs": [
    {
     "data": {
      "text/plain": [
       "ProductID            0\n",
       "Location             0\n",
       "Date                 0\n",
       "UnitsSold            0\n",
       "PromoCodeUsed    49909\n",
       "dtype: int64"
      ]
     },
     "execution_count": 9,
     "metadata": {},
     "output_type": "execute_result"
    }
   ],
   "source": [
    "df.isnull().sum()"
   ]
  },
  {
   "cell_type": "markdown",
   "id": "266e2ee9",
   "metadata": {},
   "source": [
    "# filling missing data of PromoCodeUsed column"
   ]
  },
  {
   "cell_type": "code",
   "execution_count": 10,
   "id": "05ff76d6",
   "metadata": {},
   "outputs": [
    {
     "name": "stderr",
     "output_type": "stream",
     "text": [
      "/var/folders/wz/4tdnltpd0j50hb4mv_kk_0140000gn/T/ipykernel_9486/3544640990.py:2: FutureWarning: DataFrameGroupBy.apply operated on the grouping columns. This behavior is deprecated, and in a future version of pandas the grouping columns will be excluded from the operation. Either pass `include_groups=False` to exclude the groupings or explicitly select the grouping columns after groupby to silence this warning.\n",
      "  sampled_df = df.groupby('ProductID').apply(lambda x: x.sample(min(len(x), 100))).reset_index(drop=True)\n"
     ]
    }
   ],
   "source": [
    "# logic is that, extracting 100 data of PromoCodeUSed for each productId , counting the number of \"no\" and \"yes\".. fill the value with most number\n",
    "sampled_df = df.groupby('ProductID').apply(lambda x: x.sample(min(len(x), 100))).reset_index(drop=True)\n"
   ]
  },
  {
   "cell_type": "code",
   "execution_count": 11,
   "id": "3c2a5087",
   "metadata": {},
   "outputs": [],
   "source": [
    "promo_counts = sampled_df.groupby(['ProductID', 'PromoCodeUsed']).size().unstack(fill_value=0)\n"
   ]
  },
  {
   "cell_type": "code",
   "execution_count": 12,
   "id": "eca35afc",
   "metadata": {},
   "outputs": [],
   "source": [
    "# Create a dictionary with ProductID as key and majority promoCodeUsed as value\n",
    "promo_majority = {}\n",
    "\n",
    "for pid in promo_counts.index:\n",
    "    if promo_counts.loc[pid, 'Yes'] > promo_counts.loc[pid, 'No']:\n",
    "        promo_majority[pid] = 'Yes'\n",
    "    else:\n",
    "        promo_majority[pid] = 'No'\n"
   ]
  },
  {
   "cell_type": "code",
   "execution_count": 13,
   "id": "10a09ad1",
   "metadata": {},
   "outputs": [],
   "source": [
    "def fill_promo(row):\n",
    "    if pd.isnull(row['PromoCodeUsed']):\n",
    "        return promo_majority.get(row['ProductID'], 'No')  # Default 'No' if ProductID not found\n",
    "    else:\n",
    "        return row['PromoCodeUsed']\n",
    "\n",
    "df['PromoCodeUsed'] = df.apply(fill_promo, axis=1)\n"
   ]
  },
  {
   "cell_type": "code",
   "execution_count": 14,
   "id": "fb7c8e77",
   "metadata": {},
   "outputs": [
    {
     "name": "stdout",
     "output_type": "stream",
     "text": [
      "Missing promoCodeUsed after fill: 0\n"
     ]
    }
   ],
   "source": [
    "print(\"Missing promoCodeUsed after fill:\", df['PromoCodeUsed'].isnull().sum())\n"
   ]
  },
  {
   "cell_type": "code",
   "execution_count": 15,
   "id": "1ec650f5",
   "metadata": {},
   "outputs": [
    {
     "data": {
      "text/plain": [
       "ProductID        0\n",
       "Location         0\n",
       "Date             0\n",
       "UnitsSold        0\n",
       "PromoCodeUsed    0\n",
       "dtype: int64"
      ]
     },
     "execution_count": 15,
     "metadata": {},
     "output_type": "execute_result"
    }
   ],
   "source": [
    "df.isnull().sum()"
   ]
  },
  {
   "cell_type": "code",
   "execution_count": 16,
   "id": "c379e654",
   "metadata": {},
   "outputs": [
    {
     "data": {
      "text/plain": [
       "np.int64(994)"
      ]
     },
     "execution_count": 16,
     "metadata": {},
     "output_type": "execute_result"
    }
   ],
   "source": [
    "df.duplicated().sum()"
   ]
  },
  {
   "cell_type": "code",
   "execution_count": 17,
   "id": "33937f58",
   "metadata": {},
   "outputs": [],
   "source": [
    "df.drop_duplicates(inplace=True)"
   ]
  },
  {
   "cell_type": "code",
   "execution_count": 18,
   "id": "52dc45eb",
   "metadata": {},
   "outputs": [
    {
     "data": {
      "text/html": [
       "<div>\n",
       "<style scoped>\n",
       "    .dataframe tbody tr th:only-of-type {\n",
       "        vertical-align: middle;\n",
       "    }\n",
       "\n",
       "    .dataframe tbody tr th {\n",
       "        vertical-align: top;\n",
       "    }\n",
       "\n",
       "    .dataframe thead th {\n",
       "        text-align: right;\n",
       "    }\n",
       "</style>\n",
       "<table border=\"1\" class=\"dataframe\">\n",
       "  <thead>\n",
       "    <tr style=\"text-align: right;\">\n",
       "      <th></th>\n",
       "      <th>ProductID</th>\n",
       "      <th>Location</th>\n",
       "      <th>Date</th>\n",
       "      <th>UnitsSold</th>\n",
       "      <th>PromoCodeUsed</th>\n",
       "    </tr>\n",
       "  </thead>\n",
       "  <tbody>\n",
       "    <tr>\n",
       "      <th>90451</th>\n",
       "      <td>P0439</td>\n",
       "      <td>L07</td>\n",
       "      <td>2024-03-20</td>\n",
       "      <td>5</td>\n",
       "      <td>No</td>\n",
       "    </tr>\n",
       "    <tr>\n",
       "      <th>443963</th>\n",
       "      <td>P0428</td>\n",
       "      <td>L09</td>\n",
       "      <td>2024-08-15</td>\n",
       "      <td>1</td>\n",
       "      <td>No</td>\n",
       "    </tr>\n",
       "    <tr>\n",
       "      <th>222752</th>\n",
       "      <td>P0308</td>\n",
       "      <td>L05</td>\n",
       "      <td>2024-11-10</td>\n",
       "      <td>10</td>\n",
       "      <td>Yes</td>\n",
       "    </tr>\n",
       "    <tr>\n",
       "      <th>5974</th>\n",
       "      <td>P0155</td>\n",
       "      <td>L08</td>\n",
       "      <td>2024-10-31</td>\n",
       "      <td>4</td>\n",
       "      <td>No</td>\n",
       "    </tr>\n",
       "    <tr>\n",
       "      <th>412446</th>\n",
       "      <td>P0453</td>\n",
       "      <td>L07</td>\n",
       "      <td>2024-09-27</td>\n",
       "      <td>4</td>\n",
       "      <td>No</td>\n",
       "    </tr>\n",
       "    <tr>\n",
       "      <th>285177</th>\n",
       "      <td>P0278</td>\n",
       "      <td>L04</td>\n",
       "      <td>2024-02-01</td>\n",
       "      <td>3</td>\n",
       "      <td>No</td>\n",
       "    </tr>\n",
       "    <tr>\n",
       "      <th>473863</th>\n",
       "      <td>P0493</td>\n",
       "      <td>L01</td>\n",
       "      <td>2024-08-05</td>\n",
       "      <td>10</td>\n",
       "      <td>No</td>\n",
       "    </tr>\n",
       "    <tr>\n",
       "      <th>100390</th>\n",
       "      <td>P0330</td>\n",
       "      <td>L04</td>\n",
       "      <td>2024-12-13</td>\n",
       "      <td>7</td>\n",
       "      <td>Yes</td>\n",
       "    </tr>\n",
       "    <tr>\n",
       "      <th>362518</th>\n",
       "      <td>P0219</td>\n",
       "      <td>L03</td>\n",
       "      <td>2024-08-12</td>\n",
       "      <td>6</td>\n",
       "      <td>Yes</td>\n",
       "    </tr>\n",
       "    <tr>\n",
       "      <th>381579</th>\n",
       "      <td>P0030</td>\n",
       "      <td>L04</td>\n",
       "      <td>2024-08-12</td>\n",
       "      <td>7</td>\n",
       "      <td>No</td>\n",
       "    </tr>\n",
       "  </tbody>\n",
       "</table>\n",
       "</div>"
      ],
      "text/plain": [
       "       ProductID Location        Date  UnitsSold PromoCodeUsed\n",
       "90451      P0439      L07  2024-03-20          5            No\n",
       "443963     P0428      L09  2024-08-15          1            No\n",
       "222752     P0308      L05  2024-11-10         10           Yes\n",
       "5974       P0155      L08  2024-10-31          4            No\n",
       "412446     P0453      L07  2024-09-27          4            No\n",
       "285177     P0278      L04  2024-02-01          3            No\n",
       "473863     P0493      L01  2024-08-05         10            No\n",
       "100390     P0330      L04  2024-12-13          7           Yes\n",
       "362518     P0219      L03  2024-08-12          6           Yes\n",
       "381579     P0030      L04  2024-08-12          7            No"
      ]
     },
     "execution_count": 18,
     "metadata": {},
     "output_type": "execute_result"
    }
   ],
   "source": [
    "df.sample(10)"
   ]
  },
  {
   "cell_type": "code",
   "execution_count": 19,
   "id": "16922fea",
   "metadata": {},
   "outputs": [
    {
     "data": {
      "text/plain": [
       "ProductID        object\n",
       "Location         object\n",
       "Date             object\n",
       "UnitsSold         int64\n",
       "PromoCodeUsed    object\n",
       "dtype: object"
      ]
     },
     "execution_count": 19,
     "metadata": {},
     "output_type": "execute_result"
    }
   ],
   "source": [
    "df.dtypes"
   ]
  },
  {
   "cell_type": "code",
   "execution_count": 20,
   "id": "0a6523db",
   "metadata": {},
   "outputs": [],
   "source": [
    "df['Date'] = pd.to_datetime(df['Date'], errors='coerce')"
   ]
  },
  {
   "cell_type": "code",
   "execution_count": 21,
   "id": "714149a6",
   "metadata": {},
   "outputs": [
    {
     "data": {
      "text/plain": [
       "ProductID                object\n",
       "Location                 object\n",
       "Date             datetime64[ns]\n",
       "UnitsSold                 int64\n",
       "PromoCodeUsed            object\n",
       "dtype: object"
      ]
     },
     "execution_count": 21,
     "metadata": {},
     "output_type": "execute_result"
    }
   ],
   "source": [
    "df.dtypes"
   ]
  },
  {
   "cell_type": "code",
   "execution_count": 22,
   "id": "02501b90",
   "metadata": {},
   "outputs": [
    {
     "name": "stdout",
     "output_type": "stream",
     "text": [
      "Total negative UnitsSold rows: 0\n"
     ]
    }
   ],
   "source": [
    "negative_units = df[df['UnitsSold'] < 0]\n",
    "\n",
    "print(f\"Total negative UnitsSold rows: {len(negative_units)}\")"
   ]
  },
  {
   "cell_type": "markdown",
   "id": "7b7e2d58",
   "metadata": {},
   "source": [
    "# outliers"
   ]
  },
  {
   "cell_type": "code",
   "execution_count": 23,
   "id": "3f843e97",
   "metadata": {},
   "outputs": [
    {
     "name": "stdout",
     "output_type": "stream",
     "text": [
      "Total outliers in UnitsSold: 0\n"
     ]
    }
   ],
   "source": [
    "Q1 = df['UnitsSold'].quantile(0.25)\n",
    "Q3 = df['UnitsSold'].quantile(0.75)\n",
    "IQR = Q3 - Q1\n",
    "\n",
    "lower_bound = Q1 - 1.5 * IQR\n",
    "upper_bound = Q3 + 1.5 * IQR\n",
    "\n",
    "# Outlier rows\n",
    "outliers = df[(df['UnitsSold'] < lower_bound) | (df['UnitsSold'] > upper_bound)]\n",
    "\n",
    "print(f\"Total outliers in UnitsSold: {len(outliers)}\")\n"
   ]
  },
  {
   "cell_type": "code",
   "execution_count": 24,
   "id": "f9943ab8",
   "metadata": {},
   "outputs": [
    {
     "data": {
      "text/html": [
       "<div>\n",
       "<style scoped>\n",
       "    .dataframe tbody tr th:only-of-type {\n",
       "        vertical-align: middle;\n",
       "    }\n",
       "\n",
       "    .dataframe tbody tr th {\n",
       "        vertical-align: top;\n",
       "    }\n",
       "\n",
       "    .dataframe thead th {\n",
       "        text-align: right;\n",
       "    }\n",
       "</style>\n",
       "<table border=\"1\" class=\"dataframe\">\n",
       "  <thead>\n",
       "    <tr style=\"text-align: right;\">\n",
       "      <th></th>\n",
       "      <th>ProductID</th>\n",
       "      <th>Location</th>\n",
       "      <th>Date</th>\n",
       "      <th>UnitsSold</th>\n",
       "      <th>PromoCodeUsed</th>\n",
       "    </tr>\n",
       "  </thead>\n",
       "  <tbody>\n",
       "  </tbody>\n",
       "</table>\n",
       "</div>"
      ],
      "text/plain": [
       "Empty DataFrame\n",
       "Columns: [ProductID, Location, Date, UnitsSold, PromoCodeUsed]\n",
       "Index: []"
      ]
     },
     "execution_count": 24,
     "metadata": {},
     "output_type": "execute_result"
    }
   ],
   "source": [
    "outliers.sort_values(by='UnitsSold', ascending=False).head(10)\n"
   ]
  },
  {
   "cell_type": "code",
   "execution_count": 25,
   "id": "8f7d0afb",
   "metadata": {},
   "outputs": [
    {
     "data": {
      "text/plain": [
       "Series([], Name: count, dtype: int64)"
      ]
     },
     "execution_count": 25,
     "metadata": {},
     "output_type": "execute_result"
    }
   ],
   "source": [
    "outliers['ProductID'].value_counts().head(10)\n"
   ]
  },
  {
   "cell_type": "code",
   "execution_count": 26,
   "id": "858d49e6",
   "metadata": {},
   "outputs": [
    {
     "data": {
      "text/html": [
       "<div>\n",
       "<style scoped>\n",
       "    .dataframe tbody tr th:only-of-type {\n",
       "        vertical-align: middle;\n",
       "    }\n",
       "\n",
       "    .dataframe tbody tr th {\n",
       "        vertical-align: top;\n",
       "    }\n",
       "\n",
       "    .dataframe thead th {\n",
       "        text-align: right;\n",
       "    }\n",
       "</style>\n",
       "<table border=\"1\" class=\"dataframe\">\n",
       "  <thead>\n",
       "    <tr style=\"text-align: right;\">\n",
       "      <th></th>\n",
       "      <th>Date</th>\n",
       "      <th>UnitsSold</th>\n",
       "    </tr>\n",
       "  </thead>\n",
       "  <tbody>\n",
       "    <tr>\n",
       "      <th>count</th>\n",
       "      <td>494812</td>\n",
       "      <td>494812.000000</td>\n",
       "    </tr>\n",
       "    <tr>\n",
       "      <th>mean</th>\n",
       "      <td>2024-06-30 23:00:51.888797952</td>\n",
       "      <td>5.001069</td>\n",
       "    </tr>\n",
       "    <tr>\n",
       "      <th>min</th>\n",
       "      <td>2024-01-01 00:00:00</td>\n",
       "      <td>0.000000</td>\n",
       "    </tr>\n",
       "    <tr>\n",
       "      <th>25%</th>\n",
       "      <td>2024-04-01 00:00:00</td>\n",
       "      <td>2.000000</td>\n",
       "    </tr>\n",
       "    <tr>\n",
       "      <th>50%</th>\n",
       "      <td>2024-07-01 00:00:00</td>\n",
       "      <td>5.000000</td>\n",
       "    </tr>\n",
       "    <tr>\n",
       "      <th>75%</th>\n",
       "      <td>2024-09-30 00:00:00</td>\n",
       "      <td>8.000000</td>\n",
       "    </tr>\n",
       "    <tr>\n",
       "      <th>max</th>\n",
       "      <td>2024-12-30 00:00:00</td>\n",
       "      <td>10.000000</td>\n",
       "    </tr>\n",
       "    <tr>\n",
       "      <th>std</th>\n",
       "      <td>NaN</td>\n",
       "      <td>3.162314</td>\n",
       "    </tr>\n",
       "  </tbody>\n",
       "</table>\n",
       "</div>"
      ],
      "text/plain": [
       "                                Date      UnitsSold\n",
       "count                         494812  494812.000000\n",
       "mean   2024-06-30 23:00:51.888797952       5.001069\n",
       "min              2024-01-01 00:00:00       0.000000\n",
       "25%              2024-04-01 00:00:00       2.000000\n",
       "50%              2024-07-01 00:00:00       5.000000\n",
       "75%              2024-09-30 00:00:00       8.000000\n",
       "max              2024-12-30 00:00:00      10.000000\n",
       "std                              NaN       3.162314"
      ]
     },
     "execution_count": 26,
     "metadata": {},
     "output_type": "execute_result"
    }
   ],
   "source": [
    "df.describe()"
   ]
  },
  {
   "cell_type": "code",
   "execution_count": 27,
   "id": "3aa01bd7",
   "metadata": {},
   "outputs": [],
   "source": [
    "df.to_csv(\"/Users/anuragchaubey/SalesFlux/data/processed/sales_data_cleaned.csv\",index=False)"
   ]
  }
 ],
 "metadata": {
  "kernelspec": {
   "display_name": ".venv",
   "language": "python",
   "name": "python3"
  },
  "language_info": {
   "codemirror_mode": {
    "name": "ipython",
    "version": 3
   },
   "file_extension": ".py",
   "mimetype": "text/x-python",
   "name": "python",
   "nbconvert_exporter": "python",
   "pygments_lexer": "ipython3",
   "version": "3.12.5"
  }
 },
 "nbformat": 4,
 "nbformat_minor": 5
}
